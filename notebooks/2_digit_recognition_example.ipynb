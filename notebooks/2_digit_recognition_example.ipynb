{
 "metadata": {
  "name": ""
 },
 "nbformat": 3,
 "nbformat_minor": 0,
 "worksheets": [
  {
   "cells": [
    {
     "cell_type": "code",
     "collapsed": false,
     "input": [
      "%matplotlib inline"
     ],
     "language": "python",
     "metadata": {},
     "outputs": [],
     "prompt_number": 7
    },
    {
     "cell_type": "code",
     "collapsed": false,
     "input": [
      "import matplotlib.pyplot as plt\n",
      "\n",
      "SIZE = (30,15)\n",
      "TEST = True\n",
      "\n",
      "fig = plt.figure(figsize=SIZE)"
     ],
     "language": "python",
     "metadata": {},
     "outputs": [
      {
       "metadata": {},
       "output_type": "display_data",
       "text": [
        "<matplotlib.figure.Figure at 0x7fc729643e90>"
       ]
      }
     ],
     "prompt_number": 8
    },
    {
     "cell_type": "code",
     "collapsed": false,
     "input": [
      "from sklearn import datasets, svm, metrics\n",
      "digits = datasets.load_digits()\n",
      "\n",
      "images_and_labels = list(zip(digits.images, digits.target))"
     ],
     "language": "python",
     "metadata": {},
     "outputs": [],
     "prompt_number": 9
    },
    {
     "cell_type": "code",
     "collapsed": false,
     "input": [
      "print len(images_and_labels)"
     ],
     "language": "python",
     "metadata": {},
     "outputs": [
      {
       "output_type": "stream",
       "stream": "stdout",
       "text": [
        "1797\n"
       ]
      }
     ],
     "prompt_number": 10
    },
    {
     "cell_type": "code",
     "collapsed": false,
     "input": [
      "print images_and_labels[0]\n",
      "print images_and_labels[0][0]\n",
      "print images_and_labels[0][1]"
     ],
     "language": "python",
     "metadata": {},
     "outputs": [
      {
       "output_type": "stream",
       "stream": "stdout",
       "text": [
        "(array([[  0.,   0.,   5.,  13.,   9.,   1.,   0.,   0.],\n",
        "       [  0.,   0.,  13.,  15.,  10.,  15.,   5.,   0.],\n",
        "       [  0.,   3.,  15.,   2.,   0.,  11.,   8.,   0.],\n",
        "       [  0.,   4.,  12.,   0.,   0.,   8.,   8.,   0.],\n",
        "       [  0.,   5.,   8.,   0.,   0.,   9.,   8.,   0.],\n",
        "       [  0.,   4.,  11.,   0.,   1.,  12.,   7.,   0.],\n",
        "       [  0.,   2.,  14.,   5.,  10.,  12.,   0.,   0.],\n",
        "       [  0.,   0.,   6.,  13.,  10.,   0.,   0.,   0.]]), 0)\n",
        "[[  0.   0.   5.  13.   9.   1.   0.   0.]\n",
        " [  0.   0.  13.  15.  10.  15.   5.   0.]\n",
        " [  0.   3.  15.   2.   0.  11.   8.   0.]\n",
        " [  0.   4.  12.   0.   0.   8.   8.   0.]\n",
        " [  0.   5.   8.   0.   0.   9.   8.   0.]\n",
        " [  0.   4.  11.   0.   1.  12.   7.   0.]\n",
        " [  0.   2.  14.   5.  10.  12.   0.   0.]\n",
        " [  0.   0.   6.  13.  10.   0.   0.   0.]]\n",
        "0\n"
       ]
      }
     ],
     "prompt_number": 11
    },
    {
     "cell_type": "code",
     "collapsed": false,
     "input": [
      "images_and_labels = list(zip(digits.images, digits.target))\n",
      "for index, (image, label) in enumerate(images_and_labels[:4]):\n",
      "    plt.subplot(2, 4, index + 1)\n",
      "    plt.axis('off')\n",
      "    plt.imshow(image, cmap=plt.cm.gray_r, interpolation='nearest')\n",
      "    plt.title('Training: %i' % label)"
     ],
     "language": "python",
     "metadata": {},
     "outputs": [
      {
       "metadata": {},
       "output_type": "display_data",
       "png": "[encoded data removed]",
       "text": [
        "<matplotlib.figure.Figure at 0x7fc729636b50>"
       ]
      }
     ],
     "prompt_number": 12
    },
    {
     "cell_type": "code",
     "collapsed": false,
     "input": [
      "n_samples = len(digits.images)\n",
      "data = digits.images.reshape((n_samples, -1))\n",
      "\n",
      "print data"
     ],
     "language": "python",
     "metadata": {},
     "outputs": [
      {
       "output_type": "stream",
       "stream": "stdout",
       "text": [
        "[[  0.   0.   5. ...,   0.   0.   0.]\n",
        " [  0.   0.   0. ...,  10.   0.   0.]\n",
        " [  0.   0.   0. ...,  16.   9.   0.]\n",
        " ..., \n",
        " [  0.   0.   1. ...,   6.   0.   0.]\n",
        " [  0.   0.   2. ...,  12.   0.   0.]\n",
        " [  0.   0.  10. ...,  12.   1.   0.]]\n"
       ]
      }
     ],
     "prompt_number": 14
    },
    {
     "cell_type": "code",
     "collapsed": false,
     "input": [
      "print(__doc__)\n",
      "\n",
      "# Author: Gael Varoquaux <gael dot varoquaux at normalesup dot org>\n",
      "# License: BSD 3 clause\n",
      "\n",
      "# Standard scientific Python imports\n",
      "import matplotlib.pyplot as plt\n",
      "\n",
      "# Import datasets, classifiers and performance metrics\n",
      "from sklearn import datasets, svm, metrics\n",
      "\n",
      "# The digits dataset\n",
      "digits = datasets.load_digits()\n",
      "\n",
      "# The data that we are interested in is made of 8x8 images of digits, let's\n",
      "# have a look at the first 3 images, stored in the `images` attribute of the\n",
      "# dataset.  If we were working from image files, we could load them using\n",
      "# pylab.imread.  Note that each image must have the same size. For these\n",
      "# images, we know which digit they represent: it is given in the 'target' of\n",
      "# the dataset.\n",
      "images_and_labels = list(zip(digits.images, digits.target))\n",
      "for index, (image, label) in enumerate(images_and_labels[:4]):\n",
      "    plt.subplot(2, 4, index + 1)\n",
      "    plt.axis('off')\n",
      "    plt.imshow(image, cmap=plt.cm.gray_r, interpolation='nearest')\n",
      "    plt.title('Training: %i' % label)\n",
      "\n",
      "# To apply a classifier on this data, we need to flatten the image, to\n",
      "# turn the data in a (samples, feature) matrix:\n",
      "n_samples = len(digits.images)\n",
      "data = digits.images.reshape((n_samples, -1))\n",
      "\n",
      "# Create a classifier: a support vector classifier\n",
      "classifier = svm.SVC(gamma=0.001)\n",
      "\n",
      "# We learn the digits on the first half of the digits\n",
      "classifier.fit(data[:n_samples / 2], digits.target[:n_samples / 2])\n",
      "\n",
      "# Now predict the value of the digit on the second half:\n",
      "expected = digits.target[n_samples / 2:]\n",
      "predicted = classifier.predict(data[n_samples / 2:])\n",
      "\n",
      "print(\"Classification report for classifier %s:\\n%s\\n\"\n",
      "      % (classifier, metrics.classification_report(expected, predicted)))\n",
      "print(\"Confusion matrix:\\n%s\" % metrics.confusion_matrix(expected, predicted))\n",
      "\n",
      "images_and_predictions = list(zip(digits.images[n_samples / 2:], predicted))\n",
      "for index, (image, prediction) in enumerate(images_and_predictions[:4]):\n",
      "    plt.subplot(2, 4, index + 5)\n",
      "    plt.axis('off')\n",
      "    plt.imshow(image, cmap=plt.cm.gray_r, interpolation='nearest')\n",
      "    plt.title('Prediction: %i' % prediction)\n",
      "\n",
      "plt.show()"
     ],
     "language": "python",
     "metadata": {},
     "outputs": [
      {
       "output_type": "stream",
       "stream": "stdout",
       "text": [
        "Automatically created module for IPython interactive environment\n",
        "Classification report for classifier SVC(C=1.0, cache_size=200, class_weight=None, coef0=0.0, degree=3,\n",
        "  gamma=0.001, kernel='rbf', max_iter=-1, probability=False,\n",
        "  random_state=None, shrinking=True, tol=0.001, verbose=False):\n",
        "             precision    recall  f1-score   support\n",
        "\n",
        "          0       1.00      0.99      0.99        88\n",
        "          1       0.99      0.97      0.98        91\n",
        "          2       0.99      0.99      0.99        86\n",
        "          3       0.98      0.87      0.92        91\n",
        "          4       0.99      0.96      0.97        92\n",
        "          5       0.95      0.97      0.96        91\n",
        "          6       0.99      0.99      0.99        91\n",
        "          7       0.96      0.99      0.97        89\n",
        "          8       0.94      1.00      0.97        88\n",
        "          9       0.93      0.98      0.95        92\n",
        "\n",
        "avg / total       0.97      0.97      0.97       899\n",
        "\n"
       ]
      },
      {
       "output_type": "stream",
       "stream": "stdout",
       "text": [
        "\n",
        "Confusion matrix:\n",
        "[[87  0  0  0  1  0  0  0  0  0]\n",
        " [ 0 88  1  0  0  0  0  0  1  1]\n",
        " [ 0  0 85  1  0  0  0  0  0  0]\n",
        " [ 0  0  0 79  0  3  0  4  5  0]\n",
        " [ 0  0  0  0 88  0  0  0  0  4]\n",
        " [ 0  0  0  0  0 88  1  0  0  2]\n",
        " [ 0  1  0  0  0  0 90  0  0  0]\n",
        " [ 0  0  0  0  0  1  0 88  0  0]\n",
        " [ 0  0  0  0  0  0  0  0 88  0]\n",
        " [ 0  0  0  1  0  1  0  0  0 90]]\n"
       ]
      },
      {
       "metadata": {},
       "output_type": "display_data",
       "png": "[encoded data removed]",
       "text": [
        "<matplotlib.figure.Figure at 0x7fc726163f50>"
       ]
      }
     ],
     "prompt_number": 15
    },
    {
     "cell_type": "code",
     "collapsed": false,
     "input": [],
     "language": "python",
     "metadata": {},
     "outputs": []
    }
   ],
   "metadata": {}
  }
 ]
}