{
 "metadata": {
  "name": ""
 },
 "nbformat": 3,
 "nbformat_minor": 0,
 "worksheets": [
  {
   "cells": [
    {
     "cell_type": "code",
     "collapsed": false,
     "input": [
      "%matplotlib inline"
     ],
     "language": "python",
     "metadata": {},
     "outputs": [],
     "prompt_number": 1
    },
    {
     "cell_type": "code",
     "collapsed": false,
     "input": [
      "import matplotlib.pyplot as plt\n",
      "import numpy as np\n",
      "\n",
      "from skimage.io import imread\n",
      "from skimage import color, feature, filter\n",
      "\n",
      "import glob\n",
      "\n",
      "SIZE = (20,10)\n",
      "TEST = True"
     ],
     "language": "python",
     "metadata": {},
     "outputs": [],
     "prompt_number": 13
    },
    {
     "cell_type": "code",
     "collapsed": false,
     "input": [
      "from sklearn.cross_validation import train_test_split\n",
      "\n",
      "if TEST:\n",
      "    food1 = glob.glob(\"/home/carpedm20/data/food100/1/*.jpg\")\n",
      "    print len(food1)\n",
      "    food2 = glob.glob(\"/home/carpedm20/data/food100/36/*.jpg\")\n",
      "    print len(food2)\n",
      "    food3 = glob.glob(\"/home/carpedm20/data/food100/23/*.jpg\")\n",
      "    print len(food3)\n",
      "    foods = food1 + food2 + food3\n",
      "else:\n",
      "    foods = glob.glob(\"/home/carpedm20/data/food100/*/*.jpg\")\n",
      "    \n",
      "#foods = glob.glob(\"/home/carpedm20/data/food100/1/*.jpg\")\n",
      "\n",
      "train, test = train_test_split(foods, test_size=0.33, random_state=42)\n",
      "\n",
      "print \"train : %s\" % len(train)\n",
      "print \"test : %s\" % len(test)"
     ],
     "language": "python",
     "metadata": {},
     "outputs": [
      {
       "output_type": "stream",
       "stream": "stdout",
       "text": [
        "620\n",
        "728\n",
        "353\n",
        "train : 1139\n",
        "test : 562\n"
       ]
      }
     ],
     "prompt_number": 24
    },
    {
     "cell_type": "code",
     "collapsed": false,
     "input": [
      "from sklearn.svm import SVC"
     ],
     "language": "python",
     "metadata": {},
     "outputs": []
    }
   ],
   "metadata": {}
  }
 ]
}